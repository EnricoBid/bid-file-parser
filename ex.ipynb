{
 "cells": [
  {
   "cell_type": "code",
   "execution_count": 1,
   "metadata": {},
   "outputs": [
    {
     "data": {
      "text/plain": [
       "{'input_path': '', 'output_path': '', 'raw_content': '', 'format': '', 'parsed_content': ''}"
      ]
     },
     "execution_count": 1,
     "metadata": {},
     "output_type": "execute_result"
    }
   ],
   "source": [
    "from file_parser import FileParser\n",
    "p = FileParser()\n",
    "p"
   ]
  },
  {
   "cell_type": "markdown",
   "metadata": {},
   "source": [
    "## RAW"
   ]
  },
  {
   "cell_type": "code",
   "execution_count": 3,
   "metadata": {},
   "outputs": [
    {
     "data": {
      "text/plain": [
       "{'value': 'ehila manson, come va?', 'format': 'raw'}"
      ]
     },
     "execution_count": 3,
     "metadata": {},
     "output_type": "execute_result"
    }
   ],
   "source": [
    "p.read('file.txt')\n",
    "res = p.parse('raw')\n",
    "res"
   ]
  },
  {
   "cell_type": "markdown",
   "metadata": {},
   "source": [
    "### JSON"
   ]
  },
  {
   "cell_type": "code",
   "execution_count": 2,
   "metadata": {},
   "outputs": [
    {
     "data": {
      "text/plain": [
       "{'1': 'this is something', 'two': 2, 'hello': 'ehila manson!', 'mnnn': None}"
      ]
     },
     "execution_count": 2,
     "metadata": {},
     "output_type": "execute_result"
    }
   ],
   "source": [
    "p.read('test.json')\n",
    "res = p.parse('json')\n",
    "res"
   ]
  },
  {
   "cell_type": "markdown",
   "metadata": {},
   "source": [
    "### INI"
   ]
  },
  {
   "cell_type": "code",
   "execution_count": 1,
   "metadata": {},
   "outputs": [
    {
     "data": {
      "text/plain": [
       "{'DEVICE1': {'usethesedomainsizes': '1',\n",
       "  'usecounts': '0',\n",
       "  'onecoilwrite': '0',\n",
       "  'oneregwrite': '0',\n",
       "  'conservesconn': '1',\n",
       "  'connsecondary': '0',\n",
       "  'coils': '65535',\n",
       "  'disc inputs': '65535',\n",
       "  'input reg.': '65535',\n",
       "  'holding reg.': '65535',\n",
       "  'gen ref file1': '0',\n",
       "  'gen ref file2': '0',\n",
       "  'gen ref file3': '0',\n",
       "  'gen ref file4': '0',\n",
       "  'gen ref file5': '0',\n",
       "  'gen ref file6': '0',\n",
       "  'gen ref file7': '0',\n",
       "  'gen ref file8': '0',\n",
       "  'gen ref file9': '0',\n",
       "  'gen ref file10': '0',\n",
       "  'dp_input reg.': '0',\n",
       "  'dp_holding reg.': '0'},\n",
       " 'DEVICE2': {'usethesedomainsizes': '1',\n",
       "  'usecounts': '0',\n",
       "  'onecoilwrite': '0',\n",
       "  'oneregwrite': '0',\n",
       "  'conservesconn': '1',\n",
       "  'connsecondary': '0',\n",
       "  'coils': '65535',\n",
       "  'disc inputs': '65535',\n",
       "  'input reg.': '65535',\n",
       "  'holding reg.': '65535',\n",
       "  'gen ref file1': '0',\n",
       "  'gen ref file2': '0',\n",
       "  'gen ref file3': '0',\n",
       "  'gen ref file4': '0',\n",
       "  'gen ref file5': '0',\n",
       "  'gen ref file6': '0',\n",
       "  'gen ref file7': '0',\n",
       "  'gen ref file8': '0',\n",
       "  'gen ref file9': '0',\n",
       "  'gen ref file10': '0',\n",
       "  'dp_input reg.': '0',\n",
       "  'dp_holding reg.': '0'}}"
      ]
     },
     "execution_count": 1,
     "metadata": {},
     "output_type": "execute_result"
    }
   ],
   "source": [
    "from file_parser import FileParser\n",
    "p = FileParser()\n",
    "p.read('sample.ini')\n",
    "res = p.parse('ini')\n",
    "res"
   ]
  },
  {
   "cell_type": "markdown",
   "metadata": {},
   "source": [
    "### csv"
   ]
  },
  {
   "cell_type": "code",
   "execution_count": 7,
   "metadata": {},
   "outputs": [],
   "source": [
    "from file_parser import FileParser\n",
    "p = FileParser()\n",
    "p.read('sample.csv')"
   ]
  },
  {
   "cell_type": "code",
   "execution_count": 9,
   "metadata": {},
   "outputs": [
    {
     "data": {
      "text/plain": [
       "'Username; Identifier;First name;Last name\\nbooker12;9012;Rachel;Booker\\ngrey07;2070;Laura;Grey\\njohnson81;4081;Craig;Johnson\\njenkins46;9346;Mary;Jenkins\\nsmith79;5079;Jamie;Smith\\n\\n'"
      ]
     },
     "execution_count": 9,
     "metadata": {},
     "output_type": "execute_result"
    }
   ],
   "source": [
    "p.raw_content"
   ]
  },
  {
   "cell_type": "code",
   "execution_count": 22,
   "metadata": {},
   "outputs": [],
   "source": [
    "import csv\n",
    "from io import StringIO\n",
    "\n",
    "f:StringIO = StringIO(p.raw_content)"
   ]
  },
  {
   "cell_type": "code",
   "execution_count": 23,
   "metadata": {},
   "outputs": [],
   "source": [
    "csv_reader = csv.reader(f, delimiter=';')"
   ]
  },
  {
   "cell_type": "code",
   "execution_count": 24,
   "metadata": {},
   "outputs": [
    {
     "name": "stdout",
     "output_type": "stream",
     "text": [
      "['Username', ' Identifier', 'First name', 'Last name']\n",
      "['booker12', '9012', 'Rachel', 'Booker']\n",
      "['grey07', '2070', 'Laura', 'Grey']\n",
      "['johnson81', '4081', 'Craig', 'Johnson']\n",
      "['jenkins46', '9346', 'Mary', 'Jenkins']\n",
      "['smith79', '5079', 'Jamie', 'Smith']\n",
      "[]\n"
     ]
    }
   ],
   "source": [
    "for r in csv_reader:\n",
    "    print(r)"
   ]
  },
  {
   "cell_type": "code",
   "execution_count": 20,
   "metadata": {},
   "outputs": [
    {
     "data": {
      "text/plain": [
       "0"
      ]
     },
     "execution_count": 20,
     "metadata": {},
     "output_type": "execute_result"
    }
   ],
   "source": [
    "csv_reader"
   ]
  },
  {
   "cell_type": "code",
   "execution_count": null,
   "metadata": {},
   "outputs": [],
   "source": []
  }
 ],
 "metadata": {
  "kernelspec": {
   "display_name": "Python 3.8.0 64-bit",
   "language": "python",
   "name": "python3"
  },
  "language_info": {
   "codemirror_mode": {
    "name": "ipython",
    "version": 3
   },
   "file_extension": ".py",
   "mimetype": "text/x-python",
   "name": "python",
   "nbconvert_exporter": "python",
   "pygments_lexer": "ipython3",
   "version": "3.8.0"
  },
  "orig_nbformat": 4,
  "vscode": {
   "interpreter": {
    "hash": "df0893f56f349688326838aaeea0de204df53a132722cbd565e54b24a8fec5f6"
   }
  }
 },
 "nbformat": 4,
 "nbformat_minor": 2
}

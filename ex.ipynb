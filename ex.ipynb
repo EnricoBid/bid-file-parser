{
 "cells": [
  {
   "cell_type": "code",
   "execution_count": 1,
   "metadata": {},
   "outputs": [
    {
     "data": {
      "text/plain": [
       "{'input_path': '', 'output_path': '', 'raw_content': '', 'format': '', 'parsed_content': ''}"
      ]
     },
     "execution_count": 1,
     "metadata": {},
     "output_type": "execute_result"
    }
   ],
   "source": [
    "from file_parser import FileParser\n",
    "p = FileParser()\n",
    "p"
   ]
  },
  {
   "cell_type": "markdown",
   "metadata": {},
   "source": [
    "## RAW"
   ]
  },
  {
   "cell_type": "code",
   "execution_count": 3,
   "metadata": {},
   "outputs": [
    {
     "data": {
      "text/plain": [
       "{'value': 'ehila manson, come va?', 'format': 'raw'}"
      ]
     },
     "execution_count": 3,
     "metadata": {},
     "output_type": "execute_result"
    }
   ],
   "source": [
    "p.read('file.txt')\n",
    "res = p.parse('raw')\n",
    "res"
   ]
  },
  {
   "cell_type": "markdown",
   "metadata": {},
   "source": [
    "### JSON"
   ]
  },
  {
   "cell_type": "code",
   "execution_count": 2,
   "metadata": {},
   "outputs": [
    {
     "data": {
      "text/plain": [
       "{'1': 'this is something', 'two': 2, 'hello': 'ehila manson!', 'mnnn': None}"
      ]
     },
     "execution_count": 2,
     "metadata": {},
     "output_type": "execute_result"
    }
   ],
   "source": [
    "p.read('test.json')\n",
    "res = p.parse('json')\n",
    "res"
   ]
  },
  {
   "cell_type": "markdown",
   "metadata": {},
   "source": [
    "### INI"
   ]
  },
  {
   "cell_type": "code",
   "execution_count": 1,
   "metadata": {},
   "outputs": [
    {
     "data": {
      "text/plain": [
       "{'DEVICE1': {'usethesedomainsizes': '1',\n",
       "  'usecounts': '0',\n",
       "  'onecoilwrite': '0',\n",
       "  'oneregwrite': '0',\n",
       "  'conservesconn': '1',\n",
       "  'connsecondary': '0',\n",
       "  'coils': '65535',\n",
       "  'disc inputs': '65535',\n",
       "  'input reg.': '65535',\n",
       "  'holding reg.': '65535',\n",
       "  'gen ref file1': '0',\n",
       "  'gen ref file2': '0',\n",
       "  'gen ref file3': '0',\n",
       "  'gen ref file4': '0',\n",
       "  'gen ref file5': '0',\n",
       "  'gen ref file6': '0',\n",
       "  'gen ref file7': '0',\n",
       "  'gen ref file8': '0',\n",
       "  'gen ref file9': '0',\n",
       "  'gen ref file10': '0',\n",
       "  'dp_input reg.': '0',\n",
       "  'dp_holding reg.': '0'},\n",
       " 'DEVICE2': {'usethesedomainsizes': '1',\n",
       "  'usecounts': '0',\n",
       "  'onecoilwrite': '0',\n",
       "  'oneregwrite': '0',\n",
       "  'conservesconn': '1',\n",
       "  'connsecondary': '0',\n",
       "  'coils': '65535',\n",
       "  'disc inputs': '65535',\n",
       "  'input reg.': '65535',\n",
       "  'holding reg.': '65535',\n",
       "  'gen ref file1': '0',\n",
       "  'gen ref file2': '0',\n",
       "  'gen ref file3': '0',\n",
       "  'gen ref file4': '0',\n",
       "  'gen ref file5': '0',\n",
       "  'gen ref file6': '0',\n",
       "  'gen ref file7': '0',\n",
       "  'gen ref file8': '0',\n",
       "  'gen ref file9': '0',\n",
       "  'gen ref file10': '0',\n",
       "  'dp_input reg.': '0',\n",
       "  'dp_holding reg.': '0'}}"
      ]
     },
     "execution_count": 1,
     "metadata": {},
     "output_type": "execute_result"
    }
   ],
   "source": [
    "from file_parser import FileParser\n",
    "p = FileParser()\n",
    "p.read('sample.ini')\n",
    "res = p.parse('ini')\n",
    "res"
   ]
  },
  {
   "cell_type": "markdown",
   "metadata": {},
   "source": [
    "### csv"
   ]
  },
  {
   "cell_type": "code",
   "execution_count": 32,
   "metadata": {},
   "outputs": [
    {
     "ename": "NotImplementedException",
     "evalue": "Not implemented yet",
     "output_type": "error",
     "traceback": [
      "\u001b[0;31m---------------------------------------------------------------------------\u001b[0m",
      "\u001b[0;31mNotImplementedException\u001b[0m                   Traceback (most recent call last)",
      "Cell \u001b[0;32mIn[32], line 4\u001b[0m\n\u001b[1;32m      2\u001b[0m p \u001b[39m=\u001b[39m FileParser()\n\u001b[1;32m      3\u001b[0m p\u001b[39m.\u001b[39mread(\u001b[39m'\u001b[39m\u001b[39msample.csv\u001b[39m\u001b[39m'\u001b[39m)\n\u001b[0;32m----> 4\u001b[0m res \u001b[39m=\u001b[39m p\u001b[39m.\u001b[39;49mparse(\u001b[39m'\u001b[39;49m\u001b[39mcsv\u001b[39;49m\u001b[39m'\u001b[39;49m)\n\u001b[1;32m      5\u001b[0m rs\n",
      "File \u001b[0;32m/var/vm/shared/Bid/file-parser/file_parser/file_parser.py:41\u001b[0m, in \u001b[0;36mFileParser.parse\u001b[0;34m(self, format)\u001b[0m\n\u001b[1;32m     39\u001b[0m     \u001b[39mself\u001b[39m\u001b[39m.\u001b[39m__engine \u001b[39m=\u001b[39m RawParser()\n\u001b[1;32m     40\u001b[0m \u001b[39melif\u001b[39;00m \u001b[39mformat\u001b[39m \u001b[39m==\u001b[39m \u001b[39m'\u001b[39m\u001b[39mcsv\u001b[39m\u001b[39m'\u001b[39m:\n\u001b[0;32m---> 41\u001b[0m     \u001b[39mself\u001b[39m\u001b[39m.\u001b[39m__engine \u001b[39m=\u001b[39m CsvParser()\n\u001b[1;32m     42\u001b[0m \u001b[39melif\u001b[39;00m \u001b[39mformat\u001b[39m \u001b[39m==\u001b[39m \u001b[39m'\u001b[39m\u001b[39mini\u001b[39m\u001b[39m'\u001b[39m:\n\u001b[1;32m     43\u001b[0m     \u001b[39mself\u001b[39m\u001b[39m.\u001b[39m__engine \u001b[39m=\u001b[39m IniParser()\n",
      "\u001b[0;31mNotImplementedException\u001b[0m: Not implemented yet"
     ]
    }
   ],
   "source": [
    "from file_parser import FileParser\n",
    "p = FileParser()\n",
    "p.read('sample.csv')\n",
    "res = p.parse('csv')\n",
    "res"
   ]
  },
  {
   "cell_type": "code",
   "execution_count": 3,
   "metadata": {},
   "outputs": [
    {
     "data": {
      "text/plain": [
       "'Username; Identifier;First name;Last name\\nbooker12;9012;Rachel;Booker\\ngrey07;2070;Laura;Grey\\njohnson81;4081;Craig;Johnson\\njenkins46;9346;Mary;Jenkins\\nsmith79;5079;Jamie;Smith\\n\\n'"
      ]
     },
     "execution_count": 3,
     "metadata": {},
     "output_type": "execute_result"
    }
   ],
   "source": [
    "p.raw_content"
   ]
  },
  {
   "cell_type": "code",
   "execution_count": 21,
   "metadata": {},
   "outputs": [],
   "source": [
    "import csv\n",
    "from io import StringIO\n",
    "\n",
    "f:StringIO = StringIO(p.raw_content)"
   ]
  },
  {
   "cell_type": "code",
   "execution_count": 22,
   "metadata": {},
   "outputs": [],
   "source": [
    "csv_reader = csv.reader(f, delimiter=';')"
   ]
  },
  {
   "cell_type": "code",
   "execution_count": 23,
   "metadata": {},
   "outputs": [
    {
     "name": "stdout",
     "output_type": "stream",
     "text": [
      "['Username', ' Identifier', 'First name', 'Last name']\n",
      "['booker12', '9012', 'Rachel', 'Booker']\n",
      "['grey07', '2070', 'Laura', 'Grey']\n",
      "['johnson81', '4081', 'Craig', 'Johnson']\n",
      "['jenkins46', '9346', 'Mary', 'Jenkins']\n",
      "['smith79', '5079', 'Jamie', 'Smith']\n",
      "[]\n"
     ]
    }
   ],
   "source": [
    "line = 1\n",
    "headers = []\n",
    "content = []\n",
    "for r in csv_reader:\n",
    "    print(r)\n",
    "    if line == 1:\n",
    "        headers = r\n",
    "    else:\n",
    "        content.append(r)\n",
    "    line += 1"
   ]
  },
  {
   "cell_type": "code",
   "execution_count": 24,
   "metadata": {},
   "outputs": [
    {
     "data": {
      "text/plain": [
       "['Username', ' Identifier', 'First name', 'Last name']"
      ]
     },
     "execution_count": 24,
     "metadata": {},
     "output_type": "execute_result"
    }
   ],
   "source": [
    "headers"
   ]
  },
  {
   "cell_type": "code",
   "execution_count": 25,
   "metadata": {},
   "outputs": [
    {
     "data": {
      "text/plain": [
       "[['booker12', '9012', 'Rachel', 'Booker'],\n",
       " ['grey07', '2070', 'Laura', 'Grey'],\n",
       " ['johnson81', '4081', 'Craig', 'Johnson'],\n",
       " ['jenkins46', '9346', 'Mary', 'Jenkins'],\n",
       " ['smith79', '5079', 'Jamie', 'Smith'],\n",
       " []]"
      ]
     },
     "execution_count": 25,
     "metadata": {},
     "output_type": "execute_result"
    }
   ],
   "source": [
    "content"
   ]
  },
  {
   "cell_type": "code",
   "execution_count": 30,
   "metadata": {},
   "outputs": [
    {
     "name": "stdout",
     "output_type": "stream",
     "text": [
      "Impossible to parse this line []\n",
      "Impossible to parse this line []\n",
      "Impossible to parse this line []\n",
      "Impossible to parse this line []\n"
     ]
    }
   ],
   "source": [
    "out = []\n",
    "for x in content:\n",
    "    out_x = dict()\n",
    "    for y in range(0, len(headers)):\n",
    "        try:\n",
    "            out_x[headers[y]] = x[y]\n",
    "        except:\n",
    "            print(\"Impossible to parse this line {}\".format(x))\n",
    "    out.append(out_x)\n"
   ]
  },
  {
   "cell_type": "code",
   "execution_count": 31,
   "metadata": {},
   "outputs": [
    {
     "data": {
      "text/plain": [
       "[{'Username': 'booker12',\n",
       "  ' Identifier': '9012',\n",
       "  'First name': 'Rachel',\n",
       "  'Last name': 'Booker'},\n",
       " {'Username': 'grey07',\n",
       "  ' Identifier': '2070',\n",
       "  'First name': 'Laura',\n",
       "  'Last name': 'Grey'},\n",
       " {'Username': 'johnson81',\n",
       "  ' Identifier': '4081',\n",
       "  'First name': 'Craig',\n",
       "  'Last name': 'Johnson'},\n",
       " {'Username': 'jenkins46',\n",
       "  ' Identifier': '9346',\n",
       "  'First name': 'Mary',\n",
       "  'Last name': 'Jenkins'},\n",
       " {'Username': 'smith79',\n",
       "  ' Identifier': '5079',\n",
       "  'First name': 'Jamie',\n",
       "  'Last name': 'Smith'},\n",
       " {}]"
      ]
     },
     "execution_count": 31,
     "metadata": {},
     "output_type": "execute_result"
    }
   ],
   "source": [
    "out"
   ]
  },
  {
   "cell_type": "code",
   "execution_count": null,
   "metadata": {},
   "outputs": [],
   "source": []
  }
 ],
 "metadata": {
  "kernelspec": {
   "display_name": "Python 3.8.0 64-bit",
   "language": "python",
   "name": "python3"
  },
  "language_info": {
   "codemirror_mode": {
    "name": "ipython",
    "version": 3
   },
   "file_extension": ".py",
   "mimetype": "text/x-python",
   "name": "python",
   "nbconvert_exporter": "python",
   "pygments_lexer": "ipython3",
   "version": "3.8.0"
  },
  "orig_nbformat": 4,
  "vscode": {
   "interpreter": {
    "hash": "df0893f56f349688326838aaeea0de204df53a132722cbd565e54b24a8fec5f6"
   }
  }
 },
 "nbformat": 4,
 "nbformat_minor": 2
}

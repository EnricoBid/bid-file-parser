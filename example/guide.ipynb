{
 "cells": [
  {
   "cell_type": "code",
   "execution_count": 1,
   "metadata": {},
   "outputs": [
    {
     "data": {
      "text/plain": [
       "{'input_path': '', 'output_path': '', 'raw_content': '', 'format': '', 'parsed_content': ''}"
      ]
     },
     "execution_count": 1,
     "metadata": {},
     "output_type": "execute_result"
    }
   ],
   "source": [
    "from file_parser import FileParser\n",
    "p = FileParser()\n",
    "p"
   ]
  },
  {
   "attachments": {},
   "cell_type": "markdown",
   "metadata": {},
   "source": [
    "### RAW"
   ]
  },
  {
   "cell_type": "code",
   "execution_count": 2,
   "metadata": {},
   "outputs": [
    {
     "data": {
      "text/plain": [
       "{'value': 'ehila manson, come va?', 'format': 'raw'}"
      ]
     },
     "execution_count": 2,
     "metadata": {},
     "output_type": "execute_result"
    }
   ],
   "source": [
    "p.read('sample.txt')\n",
    "res = p.parse('raw')\n",
    "res"
   ]
  },
  {
   "cell_type": "markdown",
   "metadata": {},
   "source": [
    "### JSON"
   ]
  },
  {
   "cell_type": "code",
   "execution_count": 3,
   "metadata": {},
   "outputs": [
    {
     "data": {
      "text/plain": [
       "{'1': 'this is something', 'two': 2, 'hello': 'ehila manson!', 'mnnn': None}"
      ]
     },
     "execution_count": 3,
     "metadata": {},
     "output_type": "execute_result"
    }
   ],
   "source": [
    "p.read('sample.json')\n",
    "res = p.parse('json')\n",
    "res"
   ]
  },
  {
   "cell_type": "markdown",
   "metadata": {},
   "source": [
    "### INI"
   ]
  },
  {
   "cell_type": "code",
   "execution_count": 4,
   "metadata": {},
   "outputs": [
    {
     "data": {
      "text/plain": [
       "{'DEVICE1': {'usethesedomainsizes': '1',\n",
       "  'usecounts': '0',\n",
       "  'onecoilwrite': '0',\n",
       "  'oneregwrite': '0',\n",
       "  'conservesconn': '1',\n",
       "  'connsecondary': '0',\n",
       "  'coils': '65535',\n",
       "  'disc inputs': '65535',\n",
       "  'input reg.': '65535',\n",
       "  'holding reg.': '65535',\n",
       "  'gen ref file1': '0',\n",
       "  'gen ref file2': '0',\n",
       "  'gen ref file3': '0',\n",
       "  'gen ref file4': '0',\n",
       "  'gen ref file5': '0',\n",
       "  'gen ref file6': '0',\n",
       "  'gen ref file7': '0',\n",
       "  'gen ref file8': '0',\n",
       "  'gen ref file9': '0',\n",
       "  'gen ref file10': '0',\n",
       "  'dp_input reg.': '0',\n",
       "  'dp_holding reg.': '0'},\n",
       " 'DEVICE2': {'usethesedomainsizes': '1',\n",
       "  'usecounts': '0',\n",
       "  'onecoilwrite': '0',\n",
       "  'oneregwrite': '0',\n",
       "  'conservesconn': '1',\n",
       "  'connsecondary': '0',\n",
       "  'coils': '65535',\n",
       "  'disc inputs': '65535',\n",
       "  'input reg.': '65535',\n",
       "  'holding reg.': '65535',\n",
       "  'gen ref file1': '0',\n",
       "  'gen ref file2': '0',\n",
       "  'gen ref file3': '0',\n",
       "  'gen ref file4': '0',\n",
       "  'gen ref file5': '0',\n",
       "  'gen ref file6': '0',\n",
       "  'gen ref file7': '0',\n",
       "  'gen ref file8': '0',\n",
       "  'gen ref file9': '0',\n",
       "  'gen ref file10': '0',\n",
       "  'dp_input reg.': '0',\n",
       "  'dp_holding reg.': '0'}}"
      ]
     },
     "execution_count": 4,
     "metadata": {},
     "output_type": "execute_result"
    }
   ],
   "source": [
    "from file_parser import FileParser\n",
    "p = FileParser()\n",
    "p.read('sample.ini')\n",
    "res = p.parse('ini')\n",
    "res"
   ]
  },
  {
   "attachments": {},
   "cell_type": "markdown",
   "metadata": {},
   "source": [
    "### CSV"
   ]
  },
  {
   "cell_type": "code",
   "execution_count": 5,
   "metadata": {},
   "outputs": [
    {
     "data": {
      "text/plain": [
       "[{'Username': 'booker12',\n",
       "  ' Identifier': '9012',\n",
       "  'First name': 'Rachel',\n",
       "  'Last name': 'Booker'},\n",
       " {'Username': 'grey07',\n",
       "  ' Identifier': '2070',\n",
       "  'First name': 'Laura',\n",
       "  'Last name': 'Grey'},\n",
       " {'Username': 'johnson81',\n",
       "  ' Identifier': '4081',\n",
       "  'First name': 'Craig',\n",
       "  'Last name': 'Johnson'},\n",
       " {'Username': 'jenkins46',\n",
       "  ' Identifier': '9346',\n",
       "  'First name': 'Mary',\n",
       "  'Last name': 'Jenkins'},\n",
       " {'Username': 'smith79',\n",
       "  ' Identifier': '5079',\n",
       "  'First name': 'Jamie',\n",
       "  'Last name': 'Smith'}]"
      ]
     },
     "execution_count": 5,
     "metadata": {},
     "output_type": "execute_result"
    }
   ],
   "source": [
    "from file_parser import FileParser\n",
    "p = FileParser()\n",
    "p.read('sample.csv')\n",
    "res = p.parse('csv')\n",
    "res"
   ]
  },
  {
   "attachments": {},
   "cell_type": "markdown",
   "metadata": {},
   "source": [
    "### XLSX"
   ]
  },
  {
   "cell_type": "code",
   "execution_count": 6,
   "metadata": {},
   "outputs": [
    {
     "name": "stdout",
     "output_type": "stream",
     "text": [
      "Warning: input file not utf-8. Using bytes\n"
     ]
    },
    {
     "data": {
      "text/plain": [
       "[{'Username': 'booker12',\n",
       "  'Identifier': '9012',\n",
       "  'First name': 'Rachel',\n",
       "  'Last name': 'Booker'},\n",
       " {'Username': 'grey07',\n",
       "  'Identifier': '2070',\n",
       "  'First name': 'Laura',\n",
       "  'Last name': 'Grey'},\n",
       " {'Username': 'johnson81',\n",
       "  'Identifier': '4081',\n",
       "  'First name': 'Craig',\n",
       "  'Last name': 'Johnson'},\n",
       " {'Username': 'jenkins46',\n",
       "  'Identifier': '9346',\n",
       "  'First name': 'Mary',\n",
       "  'Last name': 'Jenkins'}]"
      ]
     },
     "execution_count": 6,
     "metadata": {},
     "output_type": "execute_result"
    }
   ],
   "source": [
    "from file_parser import FileParser\n",
    "p = FileParser()\n",
    "p.read('sample.xlsx')\n",
    "res = p.parse('xlsx')\n",
    "res"
   ]
  },
  {
   "attachments": {},
   "cell_type": "markdown",
   "metadata": {},
   "source": [
    "### XML"
   ]
  },
  {
   "cell_type": "code",
   "execution_count": 1,
   "metadata": {},
   "outputs": [
    {
     "name": "stdout",
     "output_type": "stream",
     "text": [
      " Warning: .xml files may exploit vulnerabilities in the xml parsers to perform some malicious attack. \n",
      "    Please be aware that your input '.xml' file comes from a trusted source.\n",
      "/var/vm/shared/Bid/file-parser/file_parser/xml/xml2json.xslt\n"
     ]
    },
    {
     "data": {
      "text/plain": [
       "{'EmployerData': [{'firstName': 'Rachel',\n",
       "   'lastName': 'Booker',\n",
       "   'userName': 'booker12'},\n",
       "  {'firstName': 'Laura', 'lastName': 'Grey', 'userName': 'grey07'},\n",
       "  {'firstName': 'Craig', 'lastName': 'Johnson', 'userName': 'johnson81'},\n",
       "  {'firstName': 'Mary', 'lastName': 'Jenkins', 'userName': 'jenkins46'}]}"
      ]
     },
     "execution_count": 1,
     "metadata": {},
     "output_type": "execute_result"
    }
   ],
   "source": [
    "from file_parser import FileParser\n",
    "p = FileParser()\n",
    "p.read('sample.xml')\n",
    "res = p.parse('xml')\n",
    "res"
   ]
  },
  {
   "cell_type": "code",
   "execution_count": 2,
   "metadata": {},
   "outputs": [
    {
     "data": {
      "text/plain": [
       "b'<?xml version=\"1.0\" encoding=\"UTF-8\"?>\\n<EmployerData>\\n    <employee id=\"9012\">\\n        <firstName>Rachel</firstName>\\n        <lastName>Booker</lastName>\\n        <userName>booker12</userName>\\n    </employee>\\n    \\n    <employee id=\"2070\">\\n        <firstName>Laura</firstName>\\n        <lastName>Grey</lastName>\\n        <userName>grey07</userName>\\n    </employee>\\n    \\n    <employee id=\"4081\">\\n        <firstName>Craig</firstName>\\n        <lastName>Johnson</lastName>\\n        <userName>johnson81</userName>\\n    </employee>\\n    \\n    <employee id=\"9346\">\\n        <firstName>Mary</firstName>\\n        <lastName>Jenkins</lastName>\\n        <userName>jenkins46</userName>\\n    </employee>\\n</EmployerData>'"
      ]
     },
     "execution_count": 2,
     "metadata": {},
     "output_type": "execute_result"
    }
   ],
   "source": [
    "p.raw_content"
   ]
  },
  {
   "cell_type": "code",
   "execution_count": null,
   "metadata": {},
   "outputs": [],
   "source": []
  }
 ],
 "metadata": {
  "kernelspec": {
   "display_name": "Python 3.8.0 64-bit",
   "language": "python",
   "name": "python3"
  },
  "language_info": {
   "codemirror_mode": {
    "name": "ipython",
    "version": 3
   },
   "file_extension": ".py",
   "mimetype": "text/x-python",
   "name": "python",
   "nbconvert_exporter": "python",
   "pygments_lexer": "ipython3",
   "version": "3.8.0"
  },
  "orig_nbformat": 4,
  "vscode": {
   "interpreter": {
    "hash": "df0893f56f349688326838aaeea0de204df53a132722cbd565e54b24a8fec5f6"
   }
  }
 },
 "nbformat": 4,
 "nbformat_minor": 2
}
